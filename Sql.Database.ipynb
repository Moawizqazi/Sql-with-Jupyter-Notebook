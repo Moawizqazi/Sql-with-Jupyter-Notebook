{
 "cells": [
  {
   "cell_type": "markdown",
   "id": "1d961fa7",
   "metadata": {},
   "source": [
    "# Myisql packages install"
   ]
  },
  {
   "cell_type": "markdown",
   "id": "7845e805",
   "metadata": {},
   "source": [
    "pip install mysqlclient\n",
    "pip install mysql-connector-python\n",
    "pip install pymysql"
   ]
  },
  {
   "cell_type": "code",
   "execution_count": 1,
   "id": "f01487e6",
   "metadata": {},
   "outputs": [],
   "source": [
    "import mysql.connector\n",
    "from mysql.connector import Error\n",
    "import pandas as pd"
   ]
  },
  {
   "cell_type": "code",
   "execution_count": 3,
   "id": "40d822b2",
   "metadata": {},
   "outputs": [
    {
     "name": "stdout",
     "output_type": "stream",
     "text": [
      "Mysql Database connection successfully\n"
     ]
    }
   ],
   "source": [
    "def create_server_connection(host_name , user_name , user_password):\n",
    "    conection = None\n",
    "    \n",
    "    try :\n",
    "        connection = mysql.connector.connect(\n",
    "        host     =   host_name,\n",
    "        user     = user_name,\n",
    "        password = user_password\n",
    "        )\n",
    "        print(\"Mysql Database connection successfully\")\n",
    "        \n",
    "    except Error as err:\n",
    "        print(f\"Error is '{err}'  \")\n",
    "        \n",
    "    return connection\n",
    "\n",
    "#put our mysql password\n",
    "pw = \"Moawizqazi\"\n",
    "\n",
    "connection = create_server_connection(\"localhost\" , \"root\" , pw)\n",
    "    "
   ]
  },
  {
   "cell_type": "code",
   "execution_count": 3,
   "id": "ae8a9a14",
   "metadata": {},
   "outputs": [
    {
     "name": "stdout",
     "output_type": "stream",
     "text": [
      "Error : '1007 (HY000): Can't create database 'mysql_python'; database exists' \n"
     ]
    }
   ],
   "source": [
    "#create mysql_python\n",
    "\n",
    "def create_database(connection , query):\n",
    "    cursor = connection.cursor()\n",
    "    try :\n",
    "        cursor.execute(query)\n",
    "        print(\"Database create successfully\")\n",
    "        \n",
    "    except Error as err:\n",
    "        print(f\"Error : '{err}' \")\n",
    "\n",
    "create_database_query = \"Create database mysql_python\"\n",
    "create_database(connection ,create_database_query)"
   ]
  },
  {
   "cell_type": "code",
   "execution_count": 4,
   "id": "0a7e512a",
   "metadata": {},
   "outputs": [],
   "source": [
    "#Connect to database\n",
    "def create_db_connection(host_name , user_name , user_password , db_name):\n",
    "    connection  = None\n",
    "    try:\n",
    "        connection = mysql.connector.connect(\n",
    "        host     =   host_name,\n",
    "        user     = user_name,\n",
    "        password = user_password,\n",
    "        database = db_name\n",
    "        )\n",
    "        print(\"Mysql Database connection successfully\")\n",
    "        \n",
    "    except Error as err:\n",
    "        print(f\"Error is '{err}'  \")\n",
    "        \n",
    "    return connection"
   ]
  },
  {
   "cell_type": "code",
   "execution_count": 5,
   "id": "96d208f2",
   "metadata": {},
   "outputs": [],
   "source": [
    "#Execute sql query\n",
    "def execute_query(connection , query):\n",
    "    cursor = connection.cursor()\n",
    "    try :\n",
    "        cursor.execute(query)\n",
    "        connection.commit()\n",
    "        print(\"Query was successfully\")\n",
    "        \n",
    "    except Error as err:\n",
    "        print(f\"Error : '{err}' \")\n"
   ]
  },
  {
   "cell_type": "code",
   "execution_count": 9,
   "id": "bf5d96da",
   "metadata": {},
   "outputs": [
    {
     "name": "stdout",
     "output_type": "stream",
     "text": [
      "Mysql Database connection successfully\n",
      "Query was successfully\n"
     ]
    }
   ],
   "source": [
    "create_order_table = '''\n",
    "create table orders(\n",
    "order_id int primary key,\n",
    "customer_name varchar(30) not null,\n",
    "product_name varchar(20) not null,\n",
    "date_ordered date,\n",
    "quantity int,\n",
    "unit_price float ,\n",
    "phone_number varchar(20)\n",
    "\n",
    ")'''\n",
    "\n",
    "connection = create_db_connection(\"localhost\" , \"root\" , pw , 'mysql_python')\n",
    "execute_query(connection , create_order_table)\n"
   ]
  },
  {
   "cell_type": "code",
   "execution_count": 11,
   "id": "288ee2de",
   "metadata": {},
   "outputs": [
    {
     "name": "stdout",
     "output_type": "stream",
     "text": [
      "Mysql Database connection successfully\n",
      "Query was successfully\n"
     ]
    }
   ],
   "source": [
    "data_orders = '''\n",
    "insert into orders \n",
    "values\n",
    "(101 , 'Steve'  , ' Laptop'     ,   '2018-06-17'  ,   22  ,   800 ,  25647893 ),\n",
    "(102 , 'Job'    , ' Trouser'    ,   '2019-05-12'  ,   85  ,   550 ,  58227893 ),\n",
    "(103 , 'Stacy'  , ' Tv'         ,   '2015-07-13'  ,   88   ,  546 ,  28632544),\n",
    "(104 , 'Dany'   , ' Mobile'      ,   '2017-06-18'  ,   14  ,  802 ,  14589693 ),\n",
    "(105 , 'Maria'  , ' Headphones' ,   '2016-02-11'  ,   23  ,   856 ,  22369893 ),\n",
    "(106 , 'Nancy'  , ' T-Shirts'   ,   '2018-03-10'  ,   55  ,   866 ,  25698741 )\n",
    "'''\n",
    "connection = create_db_connection(\"localhost\" , \"root\" , pw , 'mysql_python')\n",
    "execute_query(connection , data_orders)"
   ]
  },
  {
   "cell_type": "code",
   "execution_count": 12,
   "id": "821916c3",
   "metadata": {},
   "outputs": [],
   "source": [
    "def read_query(connection, querry):\n",
    "    cursor = connection.cursor()\n",
    "    result = None\n",
    "    \n",
    "    try:\n",
    "        cursor.execute(querry)\n",
    "        result = cursor.fetchall()\n",
    "        return result\n",
    "    except Error as err:\n",
    "        print(f\"Error is '{err}'\")"
   ]
  },
  {
   "cell_type": "code",
   "execution_count": 13,
   "id": "08ce74b4",
   "metadata": {},
   "outputs": [
    {
     "name": "stdout",
     "output_type": "stream",
     "text": [
      "Mysql Database connection successfully\n",
      "(101, 'Steve', ' Laptop', datetime.date(2018, 6, 17), 22, 800.0, '25647893')\n",
      "(102, 'Job', ' Trouser', datetime.date(2019, 5, 12), 85, 550.0, '58227893')\n",
      "(103, 'Stacy', ' Tv', datetime.date(2015, 7, 13), 88, 546.0, '28632544')\n",
      "(104, 'Dany', ' Mobile', datetime.date(2017, 6, 18), 14, 802.0, '14589693')\n",
      "(105, 'Maria', ' Headphones', datetime.date(2016, 2, 11), 23, 856.0, '22369893')\n",
      "(106, 'Nancy', ' T-Shirts', datetime.date(2018, 3, 10), 55, 866.0, '25698741')\n"
     ]
    }
   ],
   "source": [
    "#using Select\n",
    "q1 = '''\n",
    "select * \n",
    "from orders\n",
    "'''\n",
    "connection = create_db_connection(\"localhost\" , \"root\" , pw , 'mysql_python')\n",
    "results = read_query(connection, q1)\n",
    "\n",
    "for result in results:\n",
    "    print(result)"
   ]
  },
  {
   "cell_type": "code",
   "execution_count": 16,
   "id": "dd55be08",
   "metadata": {},
   "outputs": [
    {
     "name": "stdout",
     "output_type": "stream",
     "text": [
      "Mysql Database connection successfully\n",
      "('Steve', '25647893')\n",
      "('Job', '58227893')\n",
      "('Stacy', '28632544')\n",
      "('Dany', '14589693')\n",
      "('Maria', '22369893')\n",
      "('Nancy', '25698741')\n"
     ]
    }
   ],
   "source": [
    "q2 = '''\n",
    "select \n",
    "customer_name, phone_number \n",
    "from orders\n",
    "'''\n",
    "connection = create_db_connection(\"localhost\" , \"root\" , pw , 'mysql_python')\n",
    "results = read_query(connection, q2)\n",
    "\n",
    "for result in results:\n",
    "    print(result)"
   ]
  },
  {
   "cell_type": "code",
   "execution_count": 17,
   "id": "47a9dbb8",
   "metadata": {},
   "outputs": [
    {
     "name": "stdout",
     "output_type": "stream",
     "text": [
      "Mysql Database connection successfully\n",
      "(2018,)\n",
      "(2019,)\n",
      "(2015,)\n",
      "(2017,)\n",
      "(2016,)\n",
      "(2018,)\n"
     ]
    }
   ],
   "source": [
    "q3 = '''\n",
    "select \n",
    "year(date_ordered) \n",
    "from orders\n",
    "'''\n",
    "connection = create_db_connection(\"localhost\" , \"root\" , pw , 'mysql_python')\n",
    "results = read_query(connection, q3)\n",
    "\n",
    "for result in results:\n",
    "    print(result)"
   ]
  },
  {
   "cell_type": "code",
   "execution_count": 18,
   "id": "02390424",
   "metadata": {},
   "outputs": [
    {
     "name": "stdout",
     "output_type": "stream",
     "text": [
      "Mysql Database connection successfully\n",
      "(2018,)\n",
      "(2019,)\n",
      "(2015,)\n",
      "(2017,)\n",
      "(2016,)\n"
     ]
    }
   ],
   "source": [
    "q4 = '''\n",
    "select distinct year(date_ordered)\n",
    "from orders\n",
    "'''\n",
    "connection = create_db_connection(\"localhost\" , \"root\" , pw , 'mysql_python')\n",
    "results = read_query(connection, q4)\n",
    "\n",
    "for result in results:\n",
    "    print(result)"
   ]
  },
  {
   "cell_type": "code",
   "execution_count": 19,
   "id": "cf8952af",
   "metadata": {},
   "outputs": [
    {
     "name": "stdout",
     "output_type": "stream",
     "text": [
      "Mysql Database connection successfully\n",
      "(101, 'Steve', ' Laptop', datetime.date(2018, 6, 17), 22, 800.0, '25647893')\n",
      "(103, 'Stacy', ' Tv', datetime.date(2015, 7, 13), 88, 546.0, '28632544')\n",
      "(104, 'Dany', ' Mobile', datetime.date(2017, 6, 18), 14, 802.0, '14589693')\n",
      "(105, 'Maria', ' Headphones', datetime.date(2016, 2, 11), 23, 856.0, '22369893')\n",
      "(106, 'Nancy', ' T-Shirts', datetime.date(2018, 3, 10), 55, 866.0, '25698741')\n"
     ]
    }
   ],
   "source": [
    "q5 = '''\n",
    "select *\n",
    "from orders\n",
    "where date_ordered < '2018-12-31'\n",
    "\n",
    "'''\n",
    "connection = create_db_connection(\"localhost\" , \"root\" , pw , 'mysql_python')\n",
    "results = read_query(connection, q5)\n",
    "\n",
    "for result in results:\n",
    "    print(result)"
   ]
  },
  {
   "cell_type": "code",
   "execution_count": 20,
   "id": "6dbc2a80",
   "metadata": {},
   "outputs": [
    {
     "name": "stdout",
     "output_type": "stream",
     "text": [
      "Mysql Database connection successfully\n",
      "(102, 'Job', ' Trouser', datetime.date(2019, 5, 12), 85, 550.0, '58227893')\n"
     ]
    }
   ],
   "source": [
    "q5 = '''\n",
    "select *\n",
    "from orders\n",
    "where date_ordered > '2018-12-31'\n",
    "\n",
    "'''\n",
    "connection = create_db_connection(\"localhost\" , \"root\" , pw , 'mysql_python')\n",
    "results = read_query(connection, q5)\n",
    "\n",
    "for result in results:\n",
    "    print(result)"
   ]
  },
  {
   "cell_type": "code",
   "execution_count": 21,
   "id": "9fa822fa",
   "metadata": {},
   "outputs": [
    {
     "name": "stdout",
     "output_type": "stream",
     "text": [
      "Mysql Database connection successfully\n",
      "(103, 'Stacy', ' Tv', datetime.date(2015, 7, 13), 88, 546.0, '28632544')\n",
      "(102, 'Job', ' Trouser', datetime.date(2019, 5, 12), 85, 550.0, '58227893')\n",
      "(101, 'Steve', ' Laptop', datetime.date(2018, 6, 17), 22, 800.0, '25647893')\n",
      "(104, 'Dany', ' Mobile', datetime.date(2017, 6, 18), 14, 802.0, '14589693')\n",
      "(105, 'Maria', ' Headphones', datetime.date(2016, 2, 11), 23, 856.0, '22369893')\n",
      "(106, 'Nancy', ' T-Shirts', datetime.date(2018, 3, 10), 55, 866.0, '25698741')\n"
     ]
    }
   ],
   "source": [
    "q6 = '''\n",
    "select *\n",
    "from orders\n",
    "order by unit_price\n",
    "\n",
    "'''\n",
    "connection = create_db_connection(\"localhost\" , \"root\" , pw , 'mysql_python')\n",
    "results = read_query(connection, q6)\n",
    "\n",
    "for result in results:\n",
    "    print(result)"
   ]
  },
  {
   "cell_type": "code",
   "execution_count": 24,
   "id": "fdfdf66b",
   "metadata": {},
   "outputs": [
    {
     "data": {
      "text/html": [
       "<div>\n",
       "<style scoped>\n",
       "    .dataframe tbody tr th:only-of-type {\n",
       "        vertical-align: middle;\n",
       "    }\n",
       "\n",
       "    .dataframe tbody tr th {\n",
       "        vertical-align: top;\n",
       "    }\n",
       "\n",
       "    .dataframe thead th {\n",
       "        text-align: right;\n",
       "    }\n",
       "</style>\n",
       "<table border=\"1\" class=\"dataframe\">\n",
       "  <thead>\n",
       "    <tr style=\"text-align: right;\">\n",
       "      <th></th>\n",
       "      <th>order_id</th>\n",
       "      <th>customer_name</th>\n",
       "      <th>product_name</th>\n",
       "      <th>date_ordered</th>\n",
       "      <th>quantity</th>\n",
       "      <th>unit_price</th>\n",
       "      <th>phone_number</th>\n",
       "    </tr>\n",
       "  </thead>\n",
       "  <tbody>\n",
       "    <tr>\n",
       "      <th>0</th>\n",
       "      <td>103</td>\n",
       "      <td>Stacy</td>\n",
       "      <td>Tv</td>\n",
       "      <td>2015-07-13</td>\n",
       "      <td>88</td>\n",
       "      <td>546.0</td>\n",
       "      <td>28632544</td>\n",
       "    </tr>\n",
       "    <tr>\n",
       "      <th>1</th>\n",
       "      <td>102</td>\n",
       "      <td>Job</td>\n",
       "      <td>Trouser</td>\n",
       "      <td>2019-05-12</td>\n",
       "      <td>85</td>\n",
       "      <td>550.0</td>\n",
       "      <td>58227893</td>\n",
       "    </tr>\n",
       "    <tr>\n",
       "      <th>2</th>\n",
       "      <td>101</td>\n",
       "      <td>Steve</td>\n",
       "      <td>Laptop</td>\n",
       "      <td>2018-06-17</td>\n",
       "      <td>22</td>\n",
       "      <td>800.0</td>\n",
       "      <td>25647893</td>\n",
       "    </tr>\n",
       "    <tr>\n",
       "      <th>3</th>\n",
       "      <td>104</td>\n",
       "      <td>Dany</td>\n",
       "      <td>Mobile</td>\n",
       "      <td>2017-06-18</td>\n",
       "      <td>14</td>\n",
       "      <td>802.0</td>\n",
       "      <td>14589693</td>\n",
       "    </tr>\n",
       "    <tr>\n",
       "      <th>4</th>\n",
       "      <td>105</td>\n",
       "      <td>Maria</td>\n",
       "      <td>Headphones</td>\n",
       "      <td>2016-02-11</td>\n",
       "      <td>23</td>\n",
       "      <td>856.0</td>\n",
       "      <td>22369893</td>\n",
       "    </tr>\n",
       "    <tr>\n",
       "      <th>5</th>\n",
       "      <td>106</td>\n",
       "      <td>Nancy</td>\n",
       "      <td>T-Shirts</td>\n",
       "      <td>2018-03-10</td>\n",
       "      <td>55</td>\n",
       "      <td>866.0</td>\n",
       "      <td>25698741</td>\n",
       "    </tr>\n",
       "  </tbody>\n",
       "</table>\n",
       "</div>"
      ],
      "text/plain": [
       "   order_id customer_name product_name date_ordered   quantity  unit_price  \\\n",
       "0       103         Stacy           Tv    2015-07-13        88       546.0   \n",
       "1       102           Job      Trouser    2019-05-12        85       550.0   \n",
       "2       101         Steve       Laptop    2018-06-17        22       800.0   \n",
       "3       104          Dany       Mobile    2017-06-18        14       802.0   \n",
       "4       105         Maria   Headphones    2016-02-11        23       856.0   \n",
       "5       106         Nancy     T-Shirts    2018-03-10        55       866.0   \n",
       "\n",
       "  phone_number  \n",
       "0     28632544  \n",
       "1     58227893  \n",
       "2     25647893  \n",
       "3     14589693  \n",
       "4     22369893  \n",
       "5     25698741  "
      ]
     },
     "metadata": {},
     "output_type": "display_data"
    }
   ],
   "source": [
    "from_db = []\n",
    "\n",
    "for result in results:\n",
    "    result = list(result)\n",
    "    from_db.append(result)\n",
    "columns = ['order_id' ,'customer_name' ,'product_name' ,'date_ordered ','quantity','unit_price'  ,'phone_number']\n",
    "df = pd.DataFrame(from_db, columns = columns )\n",
    "display(df)"
   ]
  },
  {
   "cell_type": "code",
   "execution_count": 25,
   "id": "baf1675e",
   "metadata": {},
   "outputs": [
    {
     "name": "stdout",
     "output_type": "stream",
     "text": [
      "Mysql Database connection successfully\n",
      "Query was successfully\n"
     ]
    }
   ],
   "source": [
    "#update\n",
    "update = '''\n",
    "update orders\n",
    "set unit_price = 455\n",
    "where order_id = 103\n",
    "'''\n",
    "connection = create_db_connection(\"localhost\" , \"root\" , pw , 'mysql_python')\n",
    "execute_query(connection , update)"
   ]
  },
  {
   "cell_type": "code",
   "execution_count": 26,
   "id": "bc0a0021",
   "metadata": {},
   "outputs": [
    {
     "name": "stdout",
     "output_type": "stream",
     "text": [
      "Mysql Database connection successfully\n",
      "(101, 'Steve', ' Laptop', datetime.date(2018, 6, 17), 22, 800.0, '25647893')\n",
      "(102, 'Job', ' Trouser', datetime.date(2019, 5, 12), 85, 550.0, '58227893')\n",
      "(103, 'Stacy', ' Tv', datetime.date(2015, 7, 13), 88, 455.0, '28632544')\n",
      "(104, 'Dany', ' Mobile', datetime.date(2017, 6, 18), 14, 802.0, '14589693')\n",
      "(105, 'Maria', ' Headphones', datetime.date(2016, 2, 11), 23, 856.0, '22369893')\n",
      "(106, 'Nancy', ' T-Shirts', datetime.date(2018, 3, 10), 55, 866.0, '25698741')\n"
     ]
    }
   ],
   "source": [
    "q7 = '''\n",
    "select * \n",
    "from orders\n",
    "'''\n",
    "connection = create_db_connection(\"localhost\" , \"root\" , pw , 'mysql_python')\n",
    "results = read_query(connection, q7)\n",
    "\n",
    "for result in results:\n",
    "    print(result)"
   ]
  },
  {
   "cell_type": "code",
   "execution_count": 27,
   "id": "452d120e",
   "metadata": {},
   "outputs": [
    {
     "name": "stdout",
     "output_type": "stream",
     "text": [
      "Mysql Database connection successfully\n",
      "Query was successfully\n"
     ]
    }
   ],
   "source": [
    "#delete\n",
    "delete = '''\n",
    "delete  From orders\n",
    "where order_id =105\n",
    "'''\n",
    "connection = create_db_connection(\"localhost\" , \"root\" , pw , 'mysql_python')\n",
    "execute_query(connection , delete)"
   ]
  },
  {
   "cell_type": "code",
   "execution_count": 28,
   "id": "e60b8cab",
   "metadata": {},
   "outputs": [
    {
     "name": "stdout",
     "output_type": "stream",
     "text": [
      "Mysql Database connection successfully\n",
      "(101, 'Steve', ' Laptop', datetime.date(2018, 6, 17), 22, 800.0, '25647893')\n",
      "(102, 'Job', ' Trouser', datetime.date(2019, 5, 12), 85, 550.0, '58227893')\n",
      "(103, 'Stacy', ' Tv', datetime.date(2015, 7, 13), 88, 455.0, '28632544')\n",
      "(104, 'Dany', ' Mobile', datetime.date(2017, 6, 18), 14, 802.0, '14589693')\n",
      "(106, 'Nancy', ' T-Shirts', datetime.date(2018, 3, 10), 55, 866.0, '25698741')\n"
     ]
    }
   ],
   "source": [
    "q8 = '''\n",
    "select * \n",
    "from orders\n",
    "'''\n",
    "connection = create_db_connection(\"localhost\" , \"root\" , pw , 'mysql_python')\n",
    "results = read_query(connection, q8)\n",
    "\n",
    "for result in results:\n",
    "    print(result)"
   ]
  },
  {
   "cell_type": "code",
   "execution_count": null,
   "id": "09fe2e9d",
   "metadata": {},
   "outputs": [],
   "source": []
  }
 ],
 "metadata": {
  "kernelspec": {
   "display_name": "Python 3 (ipykernel)",
   "language": "python",
   "name": "python3"
  },
  "language_info": {
   "codemirror_mode": {
    "name": "ipython",
    "version": 3
   },
   "file_extension": ".py",
   "mimetype": "text/x-python",
   "name": "python",
   "nbconvert_exporter": "python",
   "pygments_lexer": "ipython3",
   "version": "3.9.12"
  }
 },
 "nbformat": 4,
 "nbformat_minor": 5
}
